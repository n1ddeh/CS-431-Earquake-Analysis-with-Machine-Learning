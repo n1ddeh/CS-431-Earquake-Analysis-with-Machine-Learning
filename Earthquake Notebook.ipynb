{
 "cells": [
  {
   "cell_type": "code",
   "execution_count": 1,
   "metadata": {},
   "outputs": [],
   "source": [
    "import os\n",
    "import csv\n",
    "import pandas as pd\n",
    "import plotly.express as px\n",
    "\n",
    "EARTHQUAKE_PATH = \"datasets/earthquakes.csv\"\n",
    "MAPBOX_ACCESS_KEY = \"pk.eyJ1IjoibWFya21pbmtvZmYiLCJhIjoiY2tmcGxuOHBrMDBxNTJwb2VmMXFxOG0wMCJ9.pvvC0x4DbywnR3_mfi-3hw\"\n",
    "\n",
    "def load_earthquake_data(earthquake_path = EARTHQUAKE_PATH):\n",
    "    return pd.read_csv(earthquake_path)\n",
    "\n",
    "df = load_earthquake_data()\n",
    "\n",
    "px.set_mapbox_access_token(MAPBOX_ACCESS_KEY)\n",
    "fig = px.scatter_mapbox(df, lat=\"Latitude\", lon=\"Longitude\", color=\"Magnitude\", size=\"Magnitude\",\n",
    "                  color_continuous_scale=px.colors.cyclical.IceFire, size_max=5, zoom=10)\n",
    "fig.show()"
   ]
  },
  {
   "cell_type": "code",
   "execution_count": 25,
   "metadata": {},
   "outputs": [],
   "source": []
  },
  {
   "cell_type": "code",
   "execution_count": null,
   "metadata": {},
   "outputs": [],
   "source": []
  }
 ],
 "metadata": {
  "kernelspec": {
   "display_name": "Python 3",
   "language": "python",
   "name": "python3"
  },
  "language_info": {
   "codemirror_mode": {
    "name": "ipython",
    "version": 3
   },
   "file_extension": ".py",
   "mimetype": "text/x-python",
   "name": "python",
   "nbconvert_exporter": "python",
   "pygments_lexer": "ipython3",
   "version": "3.8.3"
  }
 },
 "nbformat": 4,
 "nbformat_minor": 4
}
